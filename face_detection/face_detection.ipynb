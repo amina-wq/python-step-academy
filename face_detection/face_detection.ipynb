{
 "cells": [
  {
   "cell_type": "code",
   "execution_count": 4,
   "id": "490a8feb-e58d-4bbf-917f-ba96dbe32dc3",
   "metadata": {
    "tags": [],
    "ExecuteTime": {
     "end_time": "2023-09-12T16:11:43.692279400Z",
     "start_time": "2023-09-12T16:11:43.685185200Z"
    }
   },
   "outputs": [],
   "source": [
    "import cv2\n",
    "import os\n",
    "\n",
    "from tqdm import tqdm\n",
    "from datetime import datetime"
   ]
  },
  {
   "cell_type": "code",
   "execution_count": 5,
   "id": "d6ed506a-2ad6-4803-a96f-47f2156b4b9b",
   "metadata": {
    "tags": [],
    "ExecuteTime": {
     "end_time": "2023-09-12T16:11:44.611984500Z",
     "start_time": "2023-09-12T16:11:44.592892300Z"
    }
   },
   "outputs": [],
   "source": [
    "video_raw = cv2.VideoCapture('faces.mp4')\n",
    "output_video = cv2.VideoWriter('detected_faces.mp4', cv2.VideoWriter_fourcc(*'MP4V'), 25, (1280, 720))"
   ]
  },
  {
   "cell_type": "code",
   "execution_count": 6,
   "id": "1e3ecd72-1999-4aca-9e20-509c6c917ddf",
   "metadata": {
    "tags": [],
    "ExecuteTime": {
     "end_time": "2023-09-12T16:15:46.150791300Z",
     "start_time": "2023-09-12T16:11:46.371570900Z"
    }
   },
   "outputs": [
    {
     "name": "stderr",
     "output_type": "stream",
     "text": [
      "100%|██████████| 3509/3509 [03:59<00:00, 14.64it/s]\n"
     ]
    }
   ],
   "source": [
    "haar_cascade_face = cv2.CascadeClassifier('./haarcascade_frontalface_default.xml')"
   ]
  },
  {
   "cell_type": "code",
   "execution_count": 4,
   "outputs": [
    {
     "name": "stderr",
     "output_type": "stream",
     "text": [
      " 50%|█████     | 1765/3509 [02:02<02:00, 14.47it/s]\n",
      "\n",
      "KeyboardInterrupt\n",
      "\n"
     ]
    }
   ],
   "source": [
    "def detect_faces(img, cascade):\n",
    "    if not os.path.exists('./data'):\n",
    "        os.mkdir('./data')\n",
    "    img_raw = img.copy()\n",
    "    img_gray = cv2.cvtColor(img_raw, cv2.COLOR_BGR2GRAY)\n",
    "    faces_rects = cascade.detectMultiScale(img_gray, minNeighbors=7, scaleFactor=1.1)\n",
    "    for (x, y, w, h) in faces_rects:\n",
    "        try:\n",
    "            cropped_img = img_raw[y:y+h, x:x+w]\n",
    "            path = os.path.join(os.getcwd(), 'data', f'{datetime.now().strftime(\"%m%d%Y%H%M%S%f\")}.png')\n",
    "            status = cv2.imwrite(path, cropped_img)\n",
    "            if not status:\n",
    "                raise OSError\n",
    "        except Exception:\n",
    "            print('Falied to save face image')\n",
    "        cv2.rectangle(img_raw, (x, y), (x+w, y+h), (5, 255, 0), 5)\n",
    "    return img_raw\n",
    "\n",
    "for idx in tqdm(range(int(video_raw.get(cv2.CAP_PROP_FRAME_COUNT)))):\n",
    "    ret, frame = video_raw.read()\n",
    "    if(ret):\n",
    "        modified_frame = detect_faces(frame, haar_cascade_face)\n",
    "        output_video.write(modified_frame)\n",
    "    else:\n",
    "        break\n",
    "\n",
    "video_raw.release()\n",
    "output_video.release()"
   ],
   "metadata": {
    "collapsed": false,
    "ExecuteTime": {
     "end_time": "2023-09-12T16:08:59.285749100Z",
     "start_time": "2023-09-12T16:06:57.035213Z"
    }
   },
   "id": "56f212ed-acb3-452f-93db-cad0829a0bae"
  },
  {
   "cell_type": "code",
   "execution_count": null,
   "outputs": [],
   "source": [],
   "metadata": {
    "collapsed": false
   },
   "id": "3c9c3440cf0140ca"
  }
 ],
 "metadata": {
  "kernelspec": {
   "display_name": "Python 3 (ipykernel)",
   "language": "python",
   "name": "python3"
  },
  "language_info": {
   "codemirror_mode": {
    "name": "ipython",
    "version": 3
   },
   "file_extension": ".py",
   "mimetype": "text/x-python",
   "name": "python",
   "nbconvert_exporter": "python",
   "pygments_lexer": "ipython3",
   "version": "3.11.4"
  }
 },
 "nbformat": 4,
 "nbformat_minor": 5
}
